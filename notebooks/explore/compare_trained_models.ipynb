{
 "cells": [
  {
   "cell_type": "code",
   "execution_count": 1,
   "metadata": {},
   "outputs": [],
   "source": [
    "import sys\n",
    "sys.path.insert(0, \"../../\")\n",
    "\n",
    "from src.instruction_utility import *\n",
    "from src.utility import *\n",
    "\n",
    "import pandas as pd\n",
    "\n",
    "import matplotlib.pyplot as plt"
   ]
  },
  {
   "cell_type": "markdown",
   "metadata": {},
   "source": [
    "Lets get all metadata files in \"models/\":"
   ]
  },
  {
   "cell_type": "code",
   "execution_count": 2,
   "metadata": {},
   "outputs": [],
   "source": [
    "candidate_files = []\n",
    "for root, directory, files in os.walk(os.path.join(get_project_dir(), \"models\")):\n",
    "    for file in files:\n",
    "        if file.endswith(\".meta\"):\n",
    "            if \"checkpoint\" not in file:\n",
    "                candidate_files.append(file)"
   ]
  },
  {
   "cell_type": "markdown",
   "metadata": {},
   "source": [
    "Now filter all the files that have written logs, which are not None and also provide TopKValidation predictions:"
   ]
  },
  {
   "cell_type": "code",
   "execution_count": 3,
   "metadata": {},
   "outputs": [
    {
     "data": {
      "text/plain": [
       "['simple_conv2d_embedding_size_16_angular_d-0.meta',\n",
       " 'simple_conv2d_embedding_size_20_angular_d_aug.meta',\n",
       " 'simple_conv2d_embedding_size_12_angular_d.meta',\n",
       " 'mobilenet_v2_frozen.meta',\n",
       " 'simple_conv2d_embedding_size_16_angular_d.meta',\n",
       " 'simple_conv2d_embedding_size_18_angular_d.meta',\n",
       " 'simple_conv2d_embedding_size_32_angular_d.meta',\n",
       " 'simple_conv2d_embedding_size_32-0.meta',\n",
       " 'simple_conv2d_embedding_size_8_angular_d.meta',\n",
       " 'simple_conv2d_embedding_size_16_angular_d-1.meta',\n",
       " 'simple_conv2d_embedding_size_20_angular_d.meta',\n",
       " 'simple_conv2d_embedding_size_8.meta',\n",
       " 'simple_conv2d_embedding_size_256.meta',\n",
       " 'simple_conv2d_embedding_size_20_angular_d_augmented.meta',\n",
       " 'simple_conv2d_embedding_size_32-1.meta',\n",
       " 'VAE_conv2d_input_224_embedding_512.meta',\n",
       " 'simple_conv2d_embedding_size_14_angular_d.meta',\n",
       " 'simple_conv2d_embedding_size_64.meta',\n",
       " 'simple_conv2d_embedding_size_32.meta',\n",
       " 'simple_conv2d_embedding_size_64_angular_d.meta',\n",
       " 'simple_conv2d_embedding_size_16.meta',\n",
       " 'simple_conv2d_embedding_size_128.meta']"
      ]
     },
     "execution_count": 3,
     "metadata": {},
     "output_type": "execute_result"
    }
   ],
   "source": [
    "candidate_files"
   ]
  },
  {
   "cell_type": "code",
   "execution_count": 4,
   "metadata": {},
   "outputs": [],
   "source": [
    "valid_metadata = []\n",
    "\n",
    "for file in candidate_files:\n",
    "    metadata = load_metadata(file)\n",
    "    if \"logs\" in metadata.keys():\n",
    "        if metadata[\"logs\"] != \"None\":\n",
    "            if \"TopKValidation\" in metadata[\"logs\"].keys():\n",
    "                valid_metadata.append(metadata)"
   ]
  },
  {
   "cell_type": "code",
   "execution_count": 5,
   "metadata": {},
   "outputs": [
    {
     "data": {
      "text/plain": [
       "['simple_conv2d_embedding_size_16_angular_d-0.meta',\n",
       " 'simple_conv2d_embedding_size_20_angular_d_aug.meta',\n",
       " 'simple_conv2d_embedding_size_12_angular_d.meta',\n",
       " 'mobilenet_v2_frozen.meta',\n",
       " 'simple_conv2d_embedding_size_16_angular_d.meta',\n",
       " 'simple_conv2d_embedding_size_18_angular_d.meta',\n",
       " 'simple_conv2d_embedding_size_32_angular_d.meta',\n",
       " 'simple_conv2d_embedding_size_32-0.meta',\n",
       " 'simple_conv2d_embedding_size_8_angular_d.meta',\n",
       " 'simple_conv2d_embedding_size_16_angular_d-1.meta',\n",
       " 'simple_conv2d_embedding_size_20_angular_d.meta',\n",
       " 'simple_conv2d_embedding_size_8.meta',\n",
       " 'simple_conv2d_embedding_size_256.meta',\n",
       " 'simple_conv2d_embedding_size_20_angular_d_augmented.meta',\n",
       " 'simple_conv2d_embedding_size_32-1.meta',\n",
       " 'VAE_conv2d_input_224_embedding_512.meta',\n",
       " 'simple_conv2d_embedding_size_14_angular_d.meta',\n",
       " 'simple_conv2d_embedding_size_64.meta',\n",
       " 'simple_conv2d_embedding_size_32.meta',\n",
       " 'simple_conv2d_embedding_size_64_angular_d.meta',\n",
       " 'simple_conv2d_embedding_size_16.meta',\n",
       " 'simple_conv2d_embedding_size_128.meta']"
      ]
     },
     "execution_count": 5,
     "metadata": {},
     "output_type": "execute_result"
    }
   ],
   "source": [
    "candidate_files"
   ]
  },
  {
   "cell_type": "markdown",
   "metadata": {},
   "source": [
    "# Best Top K  Scores"
   ]
  },
  {
   "cell_type": "code",
   "execution_count": 6,
   "metadata": {},
   "outputs": [
    {
     "data": {
      "text/plain": [
       "{'top_k_sum': 1.416208104052026,\n",
       " 'top_k_sum_epoch': '11',\n",
       " 'top_1': 0.3609304652326163,\n",
       " 'top_1_epoch': '11',\n",
       " 'top_5': 0.4969984992496248,\n",
       " 'top_5_epoch': '11',\n",
       " 'top_10': 0.5627813906953477,\n",
       " 'top_10_epoch': '27'}"
      ]
     },
     "execution_count": 6,
     "metadata": {},
     "output_type": "execute_result"
    }
   ],
   "source": [
    "def best_top_k_from_meta(metadata):\n",
    "    topk = metadata[\"logs\"][\"TopKValidation\"]\n",
    "    best_top_k = {\n",
    "        \"top_k_sum\": 0.0,\n",
    "        \"top_k_sum_epoch\": 0.0,\n",
    "    }\n",
    "\n",
    "    for epoch in topk.keys():\n",
    "        top_k_sum = 0.\n",
    "        for k in topk[epoch].keys():\n",
    "            if k in best_top_k.keys():\n",
    "                if best_top_k[k] < topk[epoch][k]:\n",
    "                    best_top_k[k] = topk[epoch][k]\n",
    "                    best_top_k[k+\"_epoch\"] = epoch\n",
    "            else:\n",
    "                best_top_k[k] = topk[epoch][k]\n",
    "                best_top_k[k+\"_epoch\"] = epoch\n",
    "            top_k_sum += topk[epoch][k]\n",
    "\n",
    "        if best_top_k[\"top_k_sum\"] < top_k_sum:\n",
    "            best_top_k[\"top_k_sum\"] = top_k_sum\n",
    "            best_top_k[\"top_k_sum_epoch\"] = epoch\n",
    "    return best_top_k\n",
    "    \n",
    "best_top_k_from_meta(valid_metadata[0])"
   ]
  },
  {
   "cell_type": "code",
   "execution_count": null,
   "metadata": {},
   "outputs": [],
   "source": []
  },
  {
   "cell_type": "code",
   "execution_count": 7,
   "metadata": {},
   "outputs": [],
   "source": [
    "tmp_list = []\n",
    "for metadata in valid_metadata:\n",
    "    tmp_dict = best_top_k_from_meta(metadata)\n",
    "    tmp_dict[\"saved_model\"] = metadata[\"saved_model\"]\n",
    "    tmp_list.append(tmp_dict)\n",
    "df = pd.DataFrame(tmp_list)"
   ]
  },
  {
   "cell_type": "code",
   "execution_count": 8,
   "metadata": {
    "scrolled": true
   },
   "outputs": [
    {
     "data": {
      "text/html": [
       "<div>\n",
       "<style scoped>\n",
       "    .dataframe tbody tr th:only-of-type {\n",
       "        vertical-align: middle;\n",
       "    }\n",
       "\n",
       "    .dataframe tbody tr th {\n",
       "        vertical-align: top;\n",
       "    }\n",
       "\n",
       "    .dataframe thead th {\n",
       "        text-align: right;\n",
       "    }\n",
       "</style>\n",
       "<table border=\"1\" class=\"dataframe\">\n",
       "  <thead>\n",
       "    <tr style=\"text-align: right;\">\n",
       "      <th></th>\n",
       "      <th>top_k_sum</th>\n",
       "      <th>top_k_sum_epoch</th>\n",
       "      <th>top_1</th>\n",
       "      <th>top_1_epoch</th>\n",
       "      <th>top_5</th>\n",
       "      <th>top_5_epoch</th>\n",
       "      <th>top_10</th>\n",
       "      <th>top_10_epoch</th>\n",
       "      <th>saved_model</th>\n",
       "    </tr>\n",
       "  </thead>\n",
       "  <tbody>\n",
       "    <tr>\n",
       "      <th>11</th>\n",
       "      <td>1.481200</td>\n",
       "      <td>36</td>\n",
       "      <td>0.377900</td>\n",
       "      <td>32</td>\n",
       "      <td>0.521500</td>\n",
       "      <td>36</td>\n",
       "      <td>0.584500</td>\n",
       "      <td>36</td>\n",
       "      <td>models/simple_conv2d_embedding_size_20_angular_d_augmented_{epoch:02d}.h5</td>\n",
       "    </tr>\n",
       "    <tr>\n",
       "      <th>0</th>\n",
       "      <td>1.416208</td>\n",
       "      <td>11</td>\n",
       "      <td>0.360930</td>\n",
       "      <td>11</td>\n",
       "      <td>0.496998</td>\n",
       "      <td>11</td>\n",
       "      <td>0.562781</td>\n",
       "      <td>27</td>\n",
       "      <td>models/simple_conv2d_embedding_size_16_angular_d-0.h5</td>\n",
       "    </tr>\n",
       "    <tr>\n",
       "      <th>1</th>\n",
       "      <td>1.383192</td>\n",
       "      <td>47</td>\n",
       "      <td>0.342421</td>\n",
       "      <td>39</td>\n",
       "      <td>0.488494</td>\n",
       "      <td>47</td>\n",
       "      <td>0.552776</td>\n",
       "      <td>47</td>\n",
       "      <td>models/simple_conv2d_embedding_size_20_angular_d_aug.h5</td>\n",
       "    </tr>\n",
       "    <tr>\n",
       "      <th>8</th>\n",
       "      <td>1.359180</td>\n",
       "      <td>19</td>\n",
       "      <td>0.341671</td>\n",
       "      <td>23</td>\n",
       "      <td>0.480740</td>\n",
       "      <td>31</td>\n",
       "      <td>0.542771</td>\n",
       "      <td>31</td>\n",
       "      <td>models/simple_conv2d_embedding_size_20_angular_d.h5</td>\n",
       "    </tr>\n",
       "    <tr>\n",
       "      <th>4</th>\n",
       "      <td>1.359180</td>\n",
       "      <td>15</td>\n",
       "      <td>0.338419</td>\n",
       "      <td>15</td>\n",
       "      <td>0.476238</td>\n",
       "      <td>15</td>\n",
       "      <td>0.546023</td>\n",
       "      <td>19</td>\n",
       "      <td>models/simple_conv2d_embedding_size_18_angular_d.h5</td>\n",
       "    </tr>\n",
       "    <tr>\n",
       "      <th>12</th>\n",
       "      <td>1.350675</td>\n",
       "      <td>23</td>\n",
       "      <td>0.334667</td>\n",
       "      <td>15</td>\n",
       "      <td>0.478239</td>\n",
       "      <td>23</td>\n",
       "      <td>0.538519</td>\n",
       "      <td>23</td>\n",
       "      <td>models/simple_conv2d_embedding_size_14_angular_d.h5</td>\n",
       "    </tr>\n",
       "    <tr>\n",
       "      <th>7</th>\n",
       "      <td>1.344172</td>\n",
       "      <td>27</td>\n",
       "      <td>0.333667</td>\n",
       "      <td>15</td>\n",
       "      <td>0.475738</td>\n",
       "      <td>27</td>\n",
       "      <td>0.539520</td>\n",
       "      <td>27</td>\n",
       "      <td>models/simple_conv2d_embedding_size_16_angular_d-1.h5</td>\n",
       "    </tr>\n",
       "    <tr>\n",
       "      <th>2</th>\n",
       "      <td>1.324912</td>\n",
       "      <td>15</td>\n",
       "      <td>0.323912</td>\n",
       "      <td>15</td>\n",
       "      <td>0.467734</td>\n",
       "      <td>15</td>\n",
       "      <td>0.533267</td>\n",
       "      <td>15</td>\n",
       "      <td>models/simple_conv2d_embedding_size_12_angular_d.h5</td>\n",
       "    </tr>\n",
       "    <tr>\n",
       "      <th>3</th>\n",
       "      <td>1.120058</td>\n",
       "      <td>47</td>\n",
       "      <td>0.248256</td>\n",
       "      <td>46</td>\n",
       "      <td>0.399419</td>\n",
       "      <td>47</td>\n",
       "      <td>0.476453</td>\n",
       "      <td>47</td>\n",
       "      <td>models/simple_conv2d_embedding_size_16_angular_d.h5</td>\n",
       "    </tr>\n",
       "    <tr>\n",
       "      <th>10</th>\n",
       "      <td>0.964244</td>\n",
       "      <td>27</td>\n",
       "      <td>0.206395</td>\n",
       "      <td>27</td>\n",
       "      <td>0.344186</td>\n",
       "      <td>31</td>\n",
       "      <td>0.417442</td>\n",
       "      <td>31</td>\n",
       "      <td>models/simple_conv2d_embedding_size_256.h5</td>\n",
       "    </tr>\n",
       "    <tr>\n",
       "      <th>16</th>\n",
       "      <td>0.967442</td>\n",
       "      <td>19</td>\n",
       "      <td>0.203198</td>\n",
       "      <td>19</td>\n",
       "      <td>0.346221</td>\n",
       "      <td>19</td>\n",
       "      <td>0.418023</td>\n",
       "      <td>19</td>\n",
       "      <td>models/simple_conv2d_embedding_size_128.h5</td>\n",
       "    </tr>\n",
       "    <tr>\n",
       "      <th>13</th>\n",
       "      <td>0.947674</td>\n",
       "      <td>23</td>\n",
       "      <td>0.202907</td>\n",
       "      <td>23</td>\n",
       "      <td>0.336628</td>\n",
       "      <td>23</td>\n",
       "      <td>0.410756</td>\n",
       "      <td>27</td>\n",
       "      <td>models/simple_conv2d_embedding_size_64.h5</td>\n",
       "    </tr>\n",
       "    <tr>\n",
       "      <th>14</th>\n",
       "      <td>0.978779</td>\n",
       "      <td>43</td>\n",
       "      <td>0.201163</td>\n",
       "      <td>43</td>\n",
       "      <td>0.354360</td>\n",
       "      <td>43</td>\n",
       "      <td>0.423256</td>\n",
       "      <td>43</td>\n",
       "      <td>models/simple_conv2d_embedding_size_64_angular_d.h5</td>\n",
       "    </tr>\n",
       "    <tr>\n",
       "      <th>5</th>\n",
       "      <td>0.950000</td>\n",
       "      <td>43</td>\n",
       "      <td>0.200581</td>\n",
       "      <td>26</td>\n",
       "      <td>0.340988</td>\n",
       "      <td>28</td>\n",
       "      <td>0.416570</td>\n",
       "      <td>43</td>\n",
       "      <td>models/simple_conv2d_embedding_size_32_angular_d.h5</td>\n",
       "    </tr>\n",
       "    <tr>\n",
       "      <th>9</th>\n",
       "      <td>0.890698</td>\n",
       "      <td>18</td>\n",
       "      <td>0.188663</td>\n",
       "      <td>18</td>\n",
       "      <td>0.319477</td>\n",
       "      <td>18</td>\n",
       "      <td>0.382558</td>\n",
       "      <td>18</td>\n",
       "      <td>models/simple_conv2d_embedding_size_8.h5</td>\n",
       "    </tr>\n",
       "    <tr>\n",
       "      <th>15</th>\n",
       "      <td>0.912791</td>\n",
       "      <td>43</td>\n",
       "      <td>0.187791</td>\n",
       "      <td>36</td>\n",
       "      <td>0.330814</td>\n",
       "      <td>43</td>\n",
       "      <td>0.396221</td>\n",
       "      <td>27</td>\n",
       "      <td>models/simple_conv2d_embedding_size_16.h5</td>\n",
       "    </tr>\n",
       "    <tr>\n",
       "      <th>6</th>\n",
       "      <td>0.883721</td>\n",
       "      <td>27</td>\n",
       "      <td>0.186047</td>\n",
       "      <td>27</td>\n",
       "      <td>0.312791</td>\n",
       "      <td>19</td>\n",
       "      <td>0.386919</td>\n",
       "      <td>27</td>\n",
       "      <td>models/simple_conv2d_embedding_size_8_angular_d.h5</td>\n",
       "    </tr>\n",
       "  </tbody>\n",
       "</table>\n",
       "</div>"
      ],
      "text/plain": [
       "    top_k_sum top_k_sum_epoch     top_1 top_1_epoch     top_5 top_5_epoch  \\\n",
       "11   1.481200              36  0.377900          32  0.521500          36   \n",
       "0    1.416208              11  0.360930          11  0.496998          11   \n",
       "1    1.383192              47  0.342421          39  0.488494          47   \n",
       "8    1.359180              19  0.341671          23  0.480740          31   \n",
       "4    1.359180              15  0.338419          15  0.476238          15   \n",
       "12   1.350675              23  0.334667          15  0.478239          23   \n",
       "7    1.344172              27  0.333667          15  0.475738          27   \n",
       "2    1.324912              15  0.323912          15  0.467734          15   \n",
       "3    1.120058              47  0.248256          46  0.399419          47   \n",
       "10   0.964244              27  0.206395          27  0.344186          31   \n",
       "16   0.967442              19  0.203198          19  0.346221          19   \n",
       "13   0.947674              23  0.202907          23  0.336628          23   \n",
       "14   0.978779              43  0.201163          43  0.354360          43   \n",
       "5    0.950000              43  0.200581          26  0.340988          28   \n",
       "9    0.890698              18  0.188663          18  0.319477          18   \n",
       "15   0.912791              43  0.187791          36  0.330814          43   \n",
       "6    0.883721              27  0.186047          27  0.312791          19   \n",
       "\n",
       "      top_10 top_10_epoch  \\\n",
       "11  0.584500           36   \n",
       "0   0.562781           27   \n",
       "1   0.552776           47   \n",
       "8   0.542771           31   \n",
       "4   0.546023           19   \n",
       "12  0.538519           23   \n",
       "7   0.539520           27   \n",
       "2   0.533267           15   \n",
       "3   0.476453           47   \n",
       "10  0.417442           31   \n",
       "16  0.418023           19   \n",
       "13  0.410756           27   \n",
       "14  0.423256           43   \n",
       "5   0.416570           43   \n",
       "9   0.382558           18   \n",
       "15  0.396221           27   \n",
       "6   0.386919           27   \n",
       "\n",
       "                                                                  saved_model  \n",
       "11  models/simple_conv2d_embedding_size_20_angular_d_augmented_{epoch:02d}.h5  \n",
       "0                       models/simple_conv2d_embedding_size_16_angular_d-0.h5  \n",
       "1                     models/simple_conv2d_embedding_size_20_angular_d_aug.h5  \n",
       "8                         models/simple_conv2d_embedding_size_20_angular_d.h5  \n",
       "4                         models/simple_conv2d_embedding_size_18_angular_d.h5  \n",
       "12                        models/simple_conv2d_embedding_size_14_angular_d.h5  \n",
       "7                       models/simple_conv2d_embedding_size_16_angular_d-1.h5  \n",
       "2                         models/simple_conv2d_embedding_size_12_angular_d.h5  \n",
       "3                         models/simple_conv2d_embedding_size_16_angular_d.h5  \n",
       "10                                 models/simple_conv2d_embedding_size_256.h5  \n",
       "16                                 models/simple_conv2d_embedding_size_128.h5  \n",
       "13                                  models/simple_conv2d_embedding_size_64.h5  \n",
       "14                        models/simple_conv2d_embedding_size_64_angular_d.h5  \n",
       "5                         models/simple_conv2d_embedding_size_32_angular_d.h5  \n",
       "9                                    models/simple_conv2d_embedding_size_8.h5  \n",
       "15                                  models/simple_conv2d_embedding_size_16.h5  \n",
       "6                          models/simple_conv2d_embedding_size_8_angular_d.h5  "
      ]
     },
     "execution_count": 8,
     "metadata": {},
     "output_type": "execute_result"
    }
   ],
   "source": [
    "pd.options.display.max_colwidth = 80  # show long strings\n",
    "df.sort_values(by=\"top_1\", ascending=False)"
   ]
  },
  {
   "cell_type": "code",
   "execution_count": 9,
   "metadata": {},
   "outputs": [
    {
     "data": {
      "text/plain": [
       "{'saved_model': 'models/simple_conv2d_embedding_size_16_angular_d-0.h5',\n",
       " 'tensorboard_log_dir': 'reports/tensorboard_logs/simple_conv2d_embedding_size_16_angular_d-0',\n",
       " 'best_top_1_model': 'models/simple_conv2d_embedding_size_16_angular_d-0_best_top_1.h5',\n",
       " 'git_commit': '8577de6',\n",
       " 'instruction': {'train_data': {'dataframe': 'data/processed/category_id_1_min_pair_count_10_deepfashion_train.joblib',\n",
       "   'factory': 'src.data.triplet_dataset_factory.TripletDatasetFactory',\n",
       "   'kwargs': {'batch_size': 64, 'data_slice_ratio': 1.0, 'shuffle': 'True'}},\n",
       "  'validation_data': 'None',\n",
       "  'model': {'factory': 'src.models.simple_conv2d_triplet_model_factory.SimpleConv2DTripletModelFactory',\n",
       "   'kwargs': {'input_shape': [224, 224, 3],\n",
       "    'embedding_size': 16,\n",
       "    'filters_per_conv_layer': [16, 32, 64, 128, 256],\n",
       "    'size_dense_layers': [512, 256]},\n",
       "   'load': 'None',\n",
       "   'fit': {'kwargs': {'epochs': 50}}},\n",
       "  'loss': {'loss': 'tensorflow_addons.losses.TripletSemiHardLoss',\n",
       "   'kwargs': {'distance_metric': 'angular'}},\n",
       "  'optimizer': {'optimizer': 'tensorflow.keras.optimizers.Adam',\n",
       "   'kwargs': {'learning_rate': 1e-05}},\n",
       "  'metric': 'None',\n",
       "  'callbacks': {'src.models.callbacks.Checkpoint': {'path': 'simple_conv2d_embedding_size_16_angular_d-0',\n",
       "    'kwargs': {}},\n",
       "   'src.models.callbacks.Tensorboard': {'log_dir': 'simple_conv2d_embedding_size_16_angular_d-0',\n",
       "    'kwargs': {}},\n",
       "   'src.models.callbacks.TopKValidation': {'dataframe': 'data/processed/category_id_1_min_pair_count_10_deepfashion_validation.joblib',\n",
       "    'epoch_frequency': 1,\n",
       "    'best_model_filepath': 'simple_conv2d_embedding_size_16_angular_d-0',\n",
       "    'k_list': [1, 5, 10]},\n",
       "   'src.models.callbacks.CyclicLR': {'base_lr': 1e-06,\n",
       "    'max_lr': 0.0001,\n",
       "    'step_size': 15038,\n",
       "    'mode': 'exp_range'}},\n",
       "  'cleanup_cmd': 'None'},\n",
       " 'logs': {'history': {'loss': [0.9462334513664246,\n",
       "    0.9282573461532593,\n",
       "    0.9082416296005249,\n",
       "    0.8807049989700317,\n",
       "    0.8741374611854553,\n",
       "    0.8854647278785706,\n",
       "    0.879950761795044,\n",
       "    0.856503963470459,\n",
       "    0.8528017401695251,\n",
       "    0.8662630319595337,\n",
       "    0.8631833791732788,\n",
       "    0.8417237401008606,\n",
       "    0.835747480392456,\n",
       "    0.8516510128974915,\n",
       "    0.8500308990478516,\n",
       "    0.829422652721405,\n",
       "    0.8244590759277344,\n",
       "    0.8408170938491821,\n",
       "    0.8393808603286743,\n",
       "    0.8178045749664307,\n",
       "    0.8128736019134521,\n",
       "    0.8300435543060303,\n",
       "    0.8290998339653015,\n",
       "    0.8071001172065735,\n",
       "    0.8021146655082703,\n",
       "    0.8190927505493164,\n",
       "    0.8206902146339417,\n",
       "    0.797645092010498,\n",
       "    0.7905089259147644,\n",
       "    0.8105234503746033,\n",
       "    0.8109152317047119,\n",
       "    0.7901860475540161,\n",
       "    0.7846264243125916,\n",
       "    0.8036973476409912,\n",
       "    0.8055810332298279,\n",
       "    0.779964804649353,\n",
       "    0.7767038941383362,\n",
       "    0.7955946922302246,\n",
       "    0.7980222702026367,\n",
       "    0.7720913290977478,\n",
       "    0.7703155875205994,\n",
       "    0.7870700359344482,\n",
       "    0.7883977293968201,\n",
       "    0.7665571570396423,\n",
       "    0.7599499225616455,\n",
       "    0.7790782451629639,\n",
       "    0.7825776934623718,\n",
       "    0.7588613629341125,\n",
       "    0.7530196309089661,\n",
       "    0.7730531096458435]},\n",
       "  'TopKValidation': {'0': {'top_1': 0.23911955977988994,\n",
       "    'top_5': 0.3514257128564282,\n",
       "    'top_10': 0.4017008504252126},\n",
       "   '1': {'top_1': 0.24937468734367182,\n",
       "    'top_5': 0.35992996498249125,\n",
       "    'top_10': 0.41445722861430717},\n",
       "   '2': {'top_1': 0.2941470735367684,\n",
       "    'top_5': 0.4204602301150575,\n",
       "    'top_10': 0.4774887443721861},\n",
       "   '3': {'top_1': 0.31990995497748875,\n",
       "    'top_5': 0.4449724862431216,\n",
       "    'top_10': 0.5070035017508754},\n",
       "   '4': {'top_1': 0.30890445222611307,\n",
       "    'top_5': 0.43921960980490243,\n",
       "    'top_10': 0.4932466233116558},\n",
       "   '5': {'top_1': 0.29739869934967483,\n",
       "    'top_5': 0.4249624812406203,\n",
       "    'top_10': 0.4807403701850925},\n",
       "   '6': {'top_1': 0.32016008004002,\n",
       "    'top_5': 0.44847423711855927,\n",
       "    'top_10': 0.5117558779389695},\n",
       "   '7': {'top_1': 0.3486743371685843,\n",
       "    'top_5': 0.48024012006003003,\n",
       "    'top_10': 0.5397698849424712},\n",
       "   '8': {'top_1': 0.33516758379189593,\n",
       "    'top_5': 0.4509754877438719,\n",
       "    'top_10': 0.5100050025012506},\n",
       "   '9': {'top_1': 0.32491245622811404,\n",
       "    'top_5': 0.45597798899449726,\n",
       "    'top_10': 0.5157578789394698},\n",
       "   '10': {'top_1': 0.33466733366683343,\n",
       "    'top_5': 0.4694847423711856,\n",
       "    'top_10': 0.5305152576288144},\n",
       "   '11': {'top_1': 0.3609304652326163,\n",
       "    'top_5': 0.4969984992496248,\n",
       "    'top_10': 0.5582791395697849},\n",
       "   '12': {'top_1': 0.35642821410705355,\n",
       "    'top_5': 0.4799899949974987,\n",
       "    'top_10': 0.5450225112556278},\n",
       "   '13': {'top_1': 0.32341170585292645,\n",
       "    'top_5': 0.45822911455727866,\n",
       "    'top_10': 0.5195097548774387},\n",
       "   '14': {'top_1': 0.3456728364182091,\n",
       "    'top_5': 0.4777388694347174,\n",
       "    'top_10': 0.5350175087543771},\n",
       "   '15': {'top_1': 0.3499249624812406,\n",
       "    'top_5': 0.48874437218609307,\n",
       "    'top_10': 0.551775887943972},\n",
       "   '16': {'top_1': 0.3416708354177089,\n",
       "    'top_5': 0.4737368684342171,\n",
       "    'top_10': 0.538519259629815},\n",
       "   '17': {'top_1': 0.33091545772886444,\n",
       "    'top_5': 0.45522761380690346,\n",
       "    'top_10': 0.5162581290645323},\n",
       "   '18': {'top_1': 0.34817408704352176,\n",
       "    'top_5': 0.4814907453726863,\n",
       "    'top_10': 0.5510255127563782},\n",
       "   '19': {'top_1': 0.3551775887943972,\n",
       "    'top_5': 0.4852426213106553,\n",
       "    'top_10': 0.5572786393196598},\n",
       "   '20': {'top_1': 0.3456728364182091,\n",
       "    'top_5': 0.47948974487243623,\n",
       "    'top_10': 0.544272136068034},\n",
       "   '21': {'top_1': 0.3386693346673337,\n",
       "    'top_5': 0.46323161580790395,\n",
       "    'top_10': 0.5297648824412207},\n",
       "   '22': {'top_1': 0.3501750875437719,\n",
       "    'top_5': 0.475487743871936,\n",
       "    'top_10': 0.5450225112556278},\n",
       "   '23': {'top_1': 0.3566783391695848,\n",
       "    'top_5': 0.49224612306153076,\n",
       "    'top_10': 0.5612806403201601},\n",
       "   '24': {'top_1': 0.34817408704352176,\n",
       "    'top_5': 0.4932466233116558,\n",
       "    'top_10': 0.5535267633816908},\n",
       "   '25': {'top_1': 0.3306653326663332,\n",
       "    'top_5': 0.46973486743371684,\n",
       "    'top_10': 0.531015507753877},\n",
       "   '26': {'top_1': 0.3424212106053027,\n",
       "    'top_5': 0.48099049524762383,\n",
       "    'top_10': 0.5470235117558779},\n",
       "   '27': {'top_1': 0.3514257128564282,\n",
       "    'top_5': 0.4912456228114057,\n",
       "    'top_10': 0.5627813906953477},\n",
       "   '28': {'top_1': 0.34367183591795897,\n",
       "    'top_5': 0.4737368684342171,\n",
       "    'top_10': 0.5407703851925963},\n",
       "   '29': {'top_1': 0.3404202101050525,\n",
       "    'top_5': 0.4622311155577789,\n",
       "    'top_10': 0.5260130065032517},\n",
       "   '30': {'top_1': 0.33516758379189593,\n",
       "    'top_5': 0.47048524262131064,\n",
       "    'top_10': 0.5332666333166584},\n",
       "   '31': {'top_1': 0.35242621310655325,\n",
       "    'top_5': 0.492496248124062,\n",
       "    'top_10': 0.552776388194097},\n",
       "   '32': {'top_1': 0.34817408704352176,\n",
       "    'top_5': 0.47798899449724863,\n",
       "    'top_10': 0.548024012006003},\n",
       "   '33': {'top_1': 0.33691845922961483,\n",
       "    'top_5': 0.4724862431215608,\n",
       "    'top_10': 0.5340170085042522},\n",
       "   '34': {'top_1': 0.3426713356678339,\n",
       "    'top_5': 0.4777388694347174,\n",
       "    'top_10': 0.5450225112556278},\n",
       "   '35': {'top_1': 0.3386693346673337,\n",
       "    'top_5': 0.475487743871936,\n",
       "    'top_10': 0.5470235117558779},\n",
       "   '36': {'top_1': 0.33991995997998997,\n",
       "    'top_5': 0.4759879939969985,\n",
       "    'top_10': 0.540520260130065},\n",
       "   '37': {'top_1': 0.3384192096048024,\n",
       "    'top_5': 0.46973486743371684,\n",
       "    'top_10': 0.5227613806903452},\n",
       "   '38': {'top_1': 0.33541770885442723,\n",
       "    'top_5': 0.4709854927463732,\n",
       "    'top_10': 0.5430215107553776},\n",
       "   '39': {'top_1': 0.34142071035517757,\n",
       "    'top_5': 0.48699349674837417,\n",
       "    'top_10': 0.5540270135067534},\n",
       "   '40': {'top_1': 0.3284142071035518,\n",
       "    'top_5': 0.46998499249624814,\n",
       "    'top_10': 0.5355177588794398},\n",
       "   '41': {'top_1': 0.31690845422711356,\n",
       "    'top_5': 0.447223611805903,\n",
       "    'top_10': 0.5212606303151576},\n",
       "   '42': {'top_1': 0.32516258129064535,\n",
       "    'top_5': 0.45947973986993496,\n",
       "    'top_10': 0.533016508254127},\n",
       "   '43': {'top_1': 0.3334167083541771,\n",
       "    'top_5': 0.4709854927463732,\n",
       "    'top_10': 0.5380190095047523},\n",
       "   '44': {'top_1': 0.31990995497748875,\n",
       "    'top_5': 0.45572786393196596,\n",
       "    'top_10': 0.5260130065032517},\n",
       "   '45': {'top_1': 0.3106553276638319,\n",
       "    'top_5': 0.4487243621810905,\n",
       "    'top_10': 0.5100050025012506},\n",
       "   '46': {'top_1': 0.3306653326663332,\n",
       "    'top_5': 0.46823411705852924,\n",
       "    'top_10': 0.5382691345672836},\n",
       "   '47': {'top_1': 0.3224112056028014,\n",
       "    'top_5': 0.4659829914957479,\n",
       "    'top_10': 0.5345172586293147},\n",
       "   '48': {'top_1': 0.31340670335167586,\n",
       "    'top_5': 0.4469734867433717,\n",
       "    'top_10': 0.516008004002001},\n",
       "   '49': {'top_1': 0.3061530765382691,\n",
       "    'top_5': 0.43696848424212104,\n",
       "    'top_10': 0.49674837418709356}}}}"
      ]
     },
     "execution_count": 9,
     "metadata": {},
     "output_type": "execute_result"
    }
   ],
   "source": [
    "valid_metadata[0]"
   ]
  },
  {
   "cell_type": "code",
   "execution_count": 10,
   "metadata": {},
   "outputs": [
    {
     "data": {
      "image/png": "[encoded data removed]",
      "text/plain": [
       "<Figure size 720x360 with 1 Axes>"
      ]
     },
     "metadata": {
      "needs_background": "light"
     },
     "output_type": "display_data"
    }
   ],
   "source": [
    "def plot_full_logs(metadata):\n",
    "    tmp_df = pd.DataFrame(metadata[\"logs\"][\"TopKValidation\"])\n",
    "    tmp_df=tmp_df.transpose()\n",
    "    tmp_df[\"loss\"] = metadata[\"logs\"][\"history\"][\"loss\"]\n",
    "    tmp_df.plot(xlim=(0,100),ylim=(0,1), figsize=(10,5))\n",
    "\n",
    "plot_full_logs(valid_metadata[0])"
   ]
  },
  {
   "cell_type": "code",
   "execution_count": 22,
   "metadata": {},
   "outputs": [
    {
     "data": {
      "text/html": [
       "<div>\n",
       "<style scoped>\n",
       "    .dataframe tbody tr th:only-of-type {\n",
       "        vertical-align: middle;\n",
       "    }\n",
       "\n",
       "    .dataframe tbody tr th {\n",
       "        vertical-align: top;\n",
       "    }\n",
       "\n",
       "    .dataframe thead th {\n",
       "        text-align: right;\n",
       "    }\n",
       "</style>\n",
       "<table border=\"1\" class=\"dataframe\">\n",
       "  <thead>\n",
       "    <tr style=\"text-align: right;\">\n",
       "      <th></th>\n",
       "      <th>Model</th>\n",
       "      <th>Top-1</th>\n",
       "      <th>Top-5</th>\n",
       "      <th>Top-10</th>\n",
       "    </tr>\n",
       "  </thead>\n",
       "  <tbody>\n",
       "    <tr>\n",
       "      <th>0</th>\n",
       "      <td>Triplet_Custom</td>\n",
       "      <td>0.37</td>\n",
       "      <td>0.51</td>\n",
       "      <td>0.57</td>\n",
       "    </tr>\n",
       "    <tr>\n",
       "      <th>1</th>\n",
       "      <td>Triplet_MobileNet</td>\n",
       "      <td>0.24</td>\n",
       "      <td>0.40</td>\n",
       "      <td>0.48</td>\n",
       "    </tr>\n",
       "    <tr>\n",
       "      <th>2</th>\n",
       "      <td>VAE_Custom</td>\n",
       "      <td>0.30</td>\n",
       "      <td>0.37</td>\n",
       "      <td>0.40</td>\n",
       "    </tr>\n",
       "  </tbody>\n",
       "</table>\n",
       "</div>"
      ],
      "text/plain": [
       "               Model  Top-1  Top-5  Top-10\n",
       "0     Triplet_Custom   0.37   0.51    0.57\n",
       "1  Triplet_MobileNet   0.24   0.40    0.48\n",
       "2         VAE_Custom   0.30   0.37    0.40"
      ]
     },
     "execution_count": 22,
     "metadata": {},
     "output_type": "execute_result"
    }
   ],
   "source": [
    "topk = {'Model':  ['Triplet_Custom', 'Triplet_MobileNet', 'VAE_Custom'],\n",
    "        'Top-1': [0.37, 0.24, 0.30],\n",
    "        'Top-5': [0.51, 0.40, 0.37],\n",
    "        'Top-10': [0.57, 0.48, 0.40]\n",
    "        }\n",
    "\n",
    "df_topk = pd.DataFrame(topk, columns=['Model', 'Top-1', 'Top-5', 'Top-10'])\n",
    "\n",
    "df_topk.head()"
   ]
  },
  {
   "cell_type": "code",
   "execution_count": 11,
   "metadata": {},
   "outputs": [
    {
     "data": {
      "application/vnd.plotly.v1+json": {
       "config": {
        "plotlyServerURL": "https://plot.ly"
       },
       "data": [
        {
         "name": "Triplet Custom",
         "type": "bar",
         "width": [
          0.22,
          0.22,
          0.22
         ],
         "x": [
          "Top-1",
          "Top-5",
          "Top-10"
         ],
         "y": [
          0.38,
          0.52,
          0.58
         ]
        },
        {
         "name": "Triplet MobileNet",
         "type": "bar",
         "width": [
          0.22,
          0.22,
          0.22
         ],
         "x": [
          "Top-1",
          "Top-5",
          "Top-10"
         ],
         "y": [
          0.24,
          0.4,
          0.48
         ]
        },
        {
         "name": "VAE Custom",
         "type": "bar",
         "width": [
          0.22,
          0.22,
          0.22
         ],
         "x": [
          "Top-1",
          "Top-5",
          "Top-10"
         ],
         "y": [
          0.3,
          0.37,
          0.4
         ]
        }
       ],
       "layout": {
        "autosize": true,
        "legend": {
         "bgcolor": "rgba(255, 255, 255, 0)",
         "bordercolor": "rgba(255, 255, 255, 0)",
         "font": {
          "family": "Arialbold",
          "size": 24
         },
         "title": {
          "font": {
           "family": "Times New Roman"
          }
         },
         "x": 0.72,
         "y": 1.5
        },
        "template": {
         "data": {
          "bar": [
           {
            "error_x": {
             "color": "#2a3f5f"
            },
            "error_y": {
             "color": "#2a3f5f"
            },
            "marker": {
             "line": {
              "color": "#E5ECF6",
              "width": 0.5
             }
            },
            "type": "bar"
           }
          ],
          "barpolar": [
           {
            "marker": {
             "line": {
              "color": "#E5ECF6",
              "width": 0.5
             }
            },
            "type": "barpolar"
           }
          ],
          "carpet": [
           {
            "aaxis": {
             "endlinecolor": "#2a3f5f",
             "gridcolor": "white",
             "linecolor": "white",
             "minorgridcolor": "white",
             "startlinecolor": "#2a3f5f"
            },
            "baxis": {
             "endlinecolor": "#2a3f5f",
             "gridcolor": "white",
             "linecolor": "white",
             "minorgridcolor": "white",
             "startlinecolor": "#2a3f5f"
            },
            "type": "carpet"
           }
          ],
          "choropleth": [
           {
            "colorbar": {
             "outlinewidth": 0,
             "ticks": ""
            },
            "type": "choropleth"
           }
          ],
          "contour": [
           {
            "colorbar": {
             "outlinewidth": 0,
             "ticks": ""
            },
            "colorscale": [
             [
              0,
              "#0d0887"
             ],
             [
              0.1111111111111111,
              "#46039f"
             ],
             [
              0.2222222222222222,
              "#7201a8"
             ],
             [
              0.3333333333333333,
              "#9c179e"
             ],
             [
              0.4444444444444444,
              "#bd3786"
             ],
             [
              0.5555555555555556,
              "#d8576b"
             ],
             [
              0.6666666666666666,
              "#ed7953"
             ],
             [
              0.7777777777777778,
              "#fb9f3a"
             ],
             [
              0.8888888888888888,
              "#fdca26"
             ],
             [
              1,
              "#f0f921"
             ]
            ],
            "type": "contour"
           }
          ],
          "contourcarpet": [
           {
            "colorbar": {
             "outlinewidth": 0,
             "ticks": ""
            },
            "type": "contourcarpet"
           }
          ],
          "heatmap": [
           {
            "colorbar": {
             "outlinewidth": 0,
             "ticks": ""
            },
            "colorscale": [
             [
              0,
              "#0d0887"
             ],
             [
              0.1111111111111111,
              "#46039f"
             ],
             [
              0.2222222222222222,
              "#7201a8"
             ],
             [
              0.3333333333333333,
              "#9c179e"
             ],
             [
              0.4444444444444444,
              "#bd3786"
             ],
             [
              0.5555555555555556,
              "#d8576b"
             ],
             [
              0.6666666666666666,
              "#ed7953"
             ],
             [
              0.7777777777777778,
              "#fb9f3a"
             ],
             [
              0.8888888888888888,
              "#fdca26"
             ],
             [
              1,
              "#f0f921"
             ]
            ],
            "type": "heatmap"
           }
          ],
          "heatmapgl": [
           {
            "colorbar": {
             "outlinewidth": 0,
             "ticks": ""
            },
            "colorscale": [
             [
              0,
              "#0d0887"
             ],
             [
              0.1111111111111111,
              "#46039f"
             ],
             [
              0.2222222222222222,
              "#7201a8"
             ],
             [
              0.3333333333333333,
              "#9c179e"
             ],
             [
              0.4444444444444444,
              "#bd3786"
             ],
             [
              0.5555555555555556,
              "#d8576b"
             ],
             [
              0.6666666666666666,
              "#ed7953"
             ],
             [
              0.7777777777777778,
              "#fb9f3a"
             ],
             [
              0.8888888888888888,
              "#fdca26"
             ],
             [
              1,
              "#f0f921"
             ]
            ],
            "type": "heatmapgl"
           }
          ],
          "histogram": [
           {
            "marker": {
             "colorbar": {
              "outlinewidth": 0,
              "ticks": ""
             }
            },
            "type": "histogram"
           }
          ],
          "histogram2d": [
           {
            "colorbar": {
             "outlinewidth": 0,
             "ticks": ""
            },
            "colorscale": [
             [
              0,
              "#0d0887"
             ],
             [
              0.1111111111111111,
              "#46039f"
             ],
             [
              0.2222222222222222,
              "#7201a8"
             ],
             [
              0.3333333333333333,
              "#9c179e"
             ],
             [
              0.4444444444444444,
              "#bd3786"
             ],
             [
              0.5555555555555556,
              "#d8576b"
             ],
             [
              0.6666666666666666,
              "#ed7953"
             ],
             [
              0.7777777777777778,
              "#fb9f3a"
             ],
             [
              0.8888888888888888,
              "#fdca26"
             ],
             [
              1,
              "#f0f921"
             ]
            ],
            "type": "histogram2d"
           }
          ],
          "histogram2dcontour": [
           {
            "colorbar": {
             "outlinewidth": 0,
             "ticks": ""
            },
            "colorscale": [
             [
              0,
              "#0d0887"
             ],
             [
              0.1111111111111111,
              "#46039f"
             ],
             [
              0.2222222222222222,
              "#7201a8"
             ],
             [
              0.3333333333333333,
              "#9c179e"
             ],
             [
              0.4444444444444444,
              "#bd3786"
             ],
             [
              0.5555555555555556,
              "#d8576b"
             ],
             [
              0.6666666666666666,
              "#ed7953"
             ],
             [
              0.7777777777777778,
              "#fb9f3a"
             ],
             [
              0.8888888888888888,
              "#fdca26"
             ],
             [
              1,
              "#f0f921"
             ]
            ],
            "type": "histogram2dcontour"
           }
          ],
          "mesh3d": [
           {
            "colorbar": {
             "outlinewidth": 0,
             "ticks": ""
            },
            "type": "mesh3d"
           }
          ],
          "parcoords": [
           {
            "line": {
             "colorbar": {
              "outlinewidth": 0,
              "ticks": ""
             }
            },
            "type": "parcoords"
           }
          ],
          "pie": [
           {
            "automargin": true,
            "type": "pie"
           }
          ],
          "scatter": [
           {
            "marker": {
             "colorbar": {
              "outlinewidth": 0,
              "ticks": ""
             }
            },
            "type": "scatter"
           }
          ],
          "scatter3d": [
           {
            "line": {
             "colorbar": {
              "outlinewidth": 0,
              "ticks": ""
             }
            },
            "marker": {
             "colorbar": {
              "outlinewidth": 0,
              "ticks": ""
             }
            },
            "type": "scatter3d"
           }
          ],
          "scattercarpet": [
           {
            "marker": {
             "colorbar": {
              "outlinewidth": 0,
              "ticks": ""
             }
            },
            "type": "scattercarpet"
           }
          ],
          "scattergeo": [
           {
            "marker": {
             "colorbar": {
              "outlinewidth": 0,
              "ticks": ""
             }
            },
            "type": "scattergeo"
           }
          ],
          "scattergl": [
           {
            "marker": {
             "colorbar": {
              "outlinewidth": 0,
              "ticks": ""
             }
            },
            "type": "scattergl"
           }
          ],
          "scattermapbox": [
           {
            "marker": {
             "colorbar": {
              "outlinewidth": 0,
              "ticks": ""
             }
            },
            "type": "scattermapbox"
           }
          ],
          "scatterpolar": [
           {
            "marker": {
             "colorbar": {
              "outlinewidth": 0,
              "ticks": ""
             }
            },
            "type": "scatterpolar"
           }
          ],
          "scatterpolargl": [
           {
            "marker": {
             "colorbar": {
              "outlinewidth": 0,
              "ticks": ""
             }
            },
            "type": "scatterpolargl"
           }
          ],
          "scatterternary": [
           {
            "marker": {
             "colorbar": {
              "outlinewidth": 0,
              "ticks": ""
             }
            },
            "type": "scatterternary"
           }
          ],
          "surface": [
           {
            "colorbar": {
             "outlinewidth": 0,
             "ticks": ""
            },
            "colorscale": [
             [
              0,
              "#0d0887"
             ],
             [
              0.1111111111111111,
              "#46039f"
             ],
             [
              0.2222222222222222,
              "#7201a8"
             ],
             [
              0.3333333333333333,
              "#9c179e"
             ],
             [
              0.4444444444444444,
              "#bd3786"
             ],
             [
              0.5555555555555556,
              "#d8576b"
             ],
             [
              0.6666666666666666,
              "#ed7953"
             ],
             [
              0.7777777777777778,
              "#fb9f3a"
             ],
             [
              0.8888888888888888,
              "#fdca26"
             ],
             [
              1,
              "#f0f921"
             ]
            ],
            "type": "surface"
           }
          ],
          "table": [
           {
            "cells": {
             "fill": {
              "color": "#EBF0F8"
             },
             "line": {
              "color": "white"
             }
            },
            "header": {
             "fill": {
              "color": "#C8D4E3"
             },
             "line": {
              "color": "white"
             }
            },
            "type": "table"
           }
          ]
         },
         "layout": {
          "annotationdefaults": {
           "arrowcolor": "#2a3f5f",
           "arrowhead": 0,
           "arrowwidth": 1
          },
          "autotypenumbers": "strict",
          "coloraxis": {
           "colorbar": {
            "outlinewidth": 0,
            "ticks": ""
           }
          },
          "colorscale": {
           "diverging": [
            [
             0,
             "#8e0152"
            ],
            [
             0.1,
             "#c51b7d"
            ],
            [
             0.2,
             "#de77ae"
            ],
            [
             0.3,
             "#f1b6da"
            ],
            [
             0.4,
             "#fde0ef"
            ],
            [
             0.5,
             "#f7f7f7"
            ],
            [
             0.6,
             "#e6f5d0"
            ],
            [
             0.7,
             "#b8e186"
            ],
            [
             0.8,
             "#7fbc41"
            ],
            [
             0.9,
             "#4d9221"
            ],
            [
             1,
             "#276419"
            ]
           ],
           "sequential": [
            [
             0,
             "#0d0887"
            ],
            [
             0.1111111111111111,
             "#46039f"
            ],
            [
             0.2222222222222222,
             "#7201a8"
            ],
            [
             0.3333333333333333,
             "#9c179e"
            ],
            [
             0.4444444444444444,
             "#bd3786"
            ],
            [
             0.5555555555555556,
             "#d8576b"
            ],
            [
             0.6666666666666666,
             "#ed7953"
            ],
            [
             0.7777777777777778,
             "#fb9f3a"
            ],
            [
             0.8888888888888888,
             "#fdca26"
            ],
            [
             1,
             "#f0f921"
            ]
           ],
           "sequentialminus": [
            [
             0,
             "#0d0887"
            ],
            [
             0.1111111111111111,
             "#46039f"
            ],
            [
             0.2222222222222222,
             "#7201a8"
            ],
            [
             0.3333333333333333,
             "#9c179e"
            ],
            [
             0.4444444444444444,
             "#bd3786"
            ],
            [
             0.5555555555555556,
             "#d8576b"
            ],
            [
             0.6666666666666666,
             "#ed7953"
            ],
            [
             0.7777777777777778,
             "#fb9f3a"
            ],
            [
             0.8888888888888888,
             "#fdca26"
            ],
            [
             1,
             "#f0f921"
            ]
           ]
          },
          "colorway": [
           "#636efa",
           "#EF553B",
           "#00cc96",
           "#ab63fa",
           "#FFA15A",
           "#19d3f3",
           "#FF6692",
           "#B6E880",
           "#FF97FF",
           "#FECB52"
          ],
          "font": {
           "color": "#2a3f5f"
          },
          "geo": {
           "bgcolor": "white",
           "lakecolor": "white",
           "landcolor": "#E5ECF6",
           "showlakes": true,
           "showland": true,
           "subunitcolor": "white"
          },
          "hoverlabel": {
           "align": "left"
          },
          "hovermode": "closest",
          "mapbox": {
           "style": "light"
          },
          "paper_bgcolor": "white",
          "plot_bgcolor": "#E5ECF6",
          "polar": {
           "angularaxis": {
            "gridcolor": "white",
            "linecolor": "white",
            "ticks": ""
           },
           "bgcolor": "#E5ECF6",
           "radialaxis": {
            "gridcolor": "white",
            "linecolor": "white",
            "ticks": ""
           }
          },
          "scene": {
           "xaxis": {
            "backgroundcolor": "#E5ECF6",
            "gridcolor": "white",
            "gridwidth": 2,
            "linecolor": "white",
            "showbackground": true,
            "ticks": "",
            "zerolinecolor": "white"
           },
           "yaxis": {
            "backgroundcolor": "#E5ECF6",
            "gridcolor": "white",
            "gridwidth": 2,
            "linecolor": "white",
            "showbackground": true,
            "ticks": "",
            "zerolinecolor": "white"
           },
           "zaxis": {
            "backgroundcolor": "#E5ECF6",
            "gridcolor": "white",
            "gridwidth": 2,
            "linecolor": "white",
            "showbackground": true,
            "ticks": "",
            "zerolinecolor": "white"
           }
          },
          "shapedefaults": {
           "line": {
            "color": "#2a3f5f"
           }
          },
          "ternary": {
           "aaxis": {
            "gridcolor": "white",
            "linecolor": "white",
            "ticks": ""
           },
           "baxis": {
            "gridcolor": "white",
            "linecolor": "white",
            "ticks": ""
           },
           "bgcolor": "#E5ECF6",
           "caxis": {
            "gridcolor": "white",
            "linecolor": "white",
            "ticks": ""
           }
          },
          "title": {
           "x": 0.05
          },
          "xaxis": {
           "automargin": true,
           "gridcolor": "white",
           "linecolor": "white",
           "ticks": "",
           "title": {
            "standoff": 15
           },
           "zerolinecolor": "white",
           "zerolinewidth": 2
          },
          "yaxis": {
           "automargin": true,
           "gridcolor": "white",
           "linecolor": "white",
           "ticks": "",
           "title": {
            "standoff": 15
           },
           "zerolinecolor": "white",
           "zerolinewidth": 2
          }
         }
        },
        "xaxis": {
         "autorange": true,
         "range": [
          -0.5,
          2.5
         ],
         "tickfont": {
          "size": 32
         },
         "type": "category"
        },
        "yaxis": {
         "autorange": true,
         "range": [
          0,
          0.6105263157894737
         ],
         "tickfont": {
          "size": 26
         },
         "title": {
          "font": {
           "size": 32
          },
          "text": "Accuracy"
         },
         "type": "linear"
        }
       }
      },
      "image/png": "[encoded data removed]",
      "text/html": [
       "<div>                            <div id=\"5d106a41-3019-47d7-b6da-7b48afa1a00b\" class=\"plotly-graph-div\" style=\"height:525px; width:100%;\"></div>            <script type=\"text/javascript\">                require([\"plotly\"], function(Plotly) {                    window.PLOTLYENV=window.PLOTLYENV || {};                                    if (document.getElementById(\"5d106a41-3019-47d7-b6da-7b48afa1a00b\")) {                    Plotly.newPlot(                        \"5d106a41-3019-47d7-b6da-7b48afa1a00b\",                        [{\"name\": \"Triplet Custom\", \"type\": \"bar\", \"width\": [0.22, 0.22, 0.22], \"x\": [\"Top-1\", \"Top-5\", \"Top-10\"], \"y\": [0.38, 0.52, 0.58]}, {\"name\": \"Triplet MobileNet\", \"type\": \"bar\", \"width\": [0.22, 0.22, 0.22], \"x\": [\"Top-1\", \"Top-5\", \"Top-10\"], \"y\": [0.24, 0.4, 0.48]}, {\"name\": \"VAE Custom\", \"type\": \"bar\", \"width\": [0.22, 0.22, 0.22], \"x\": [\"Top-1\", \"Top-5\", \"Top-10\"], \"y\": [0.3, 0.37, 0.4]}],                        {\"legend\": {\"bgcolor\": \"rgba(255, 255, 255, 0)\", \"bordercolor\": \"rgba(255, 255, 255, 0)\", \"font\": {\"family\": \"Arialbold\", \"size\": 24}, \"title\": {\"font\": {\"family\": \"Times New Roman\"}}, \"x\": 0.72, \"y\": 1.5}, \"template\": {\"data\": {\"bar\": [{\"error_x\": {\"color\": \"#2a3f5f\"}, \"error_y\": {\"color\": \"#2a3f5f\"}, \"marker\": {\"line\": {\"color\": \"#E5ECF6\", \"width\": 0.5}}, \"type\": \"bar\"}], \"barpolar\": [{\"marker\": {\"line\": {\"color\": \"#E5ECF6\", \"width\": 0.5}}, \"type\": \"barpolar\"}], \"carpet\": [{\"aaxis\": {\"endlinecolor\": \"#2a3f5f\", \"gridcolor\": \"white\", \"linecolor\": \"white\", \"minorgridcolor\": \"white\", \"startlinecolor\": \"#2a3f5f\"}, \"baxis\": {\"endlinecolor\": \"#2a3f5f\", \"gridcolor\": \"white\", \"linecolor\": \"white\", \"minorgridcolor\": \"white\", \"startlinecolor\": \"#2a3f5f\"}, \"type\": \"carpet\"}], \"choropleth\": [{\"colorbar\": {\"outlinewidth\": 0, \"ticks\": \"\"}, \"type\": \"choropleth\"}], \"contour\": [{\"colorbar\": {\"outlinewidth\": 0, \"ticks\": \"\"}, \"colorscale\": [[0.0, \"#0d0887\"], [0.1111111111111111, \"#46039f\"], [0.2222222222222222, \"#7201a8\"], [0.3333333333333333, \"#9c179e\"], [0.4444444444444444, \"#bd3786\"], [0.5555555555555556, \"#d8576b\"], [0.6666666666666666, \"#ed7953\"], [0.7777777777777778, \"#fb9f3a\"], [0.8888888888888888, \"#fdca26\"], [1.0, \"#f0f921\"]], \"type\": \"contour\"}], \"contourcarpet\": [{\"colorbar\": {\"outlinewidth\": 0, \"ticks\": \"\"}, \"type\": \"contourcarpet\"}], \"heatmap\": [{\"colorbar\": {\"outlinewidth\": 0, \"ticks\": \"\"}, \"colorscale\": [[0.0, \"#0d0887\"], [0.1111111111111111, \"#46039f\"], [0.2222222222222222, \"#7201a8\"], [0.3333333333333333, \"#9c179e\"], [0.4444444444444444, \"#bd3786\"], [0.5555555555555556, \"#d8576b\"], [0.6666666666666666, \"#ed7953\"], [0.7777777777777778, \"#fb9f3a\"], [0.8888888888888888, \"#fdca26\"], [1.0, \"#f0f921\"]], \"type\": \"heatmap\"}], \"heatmapgl\": [{\"colorbar\": {\"outlinewidth\": 0, \"ticks\": \"\"}, \"colorscale\": [[0.0, \"#0d0887\"], [0.1111111111111111, \"#46039f\"], [0.2222222222222222, \"#7201a8\"], [0.3333333333333333, \"#9c179e\"], [0.4444444444444444, \"#bd3786\"], [0.5555555555555556, \"#d8576b\"], [0.6666666666666666, \"#ed7953\"], [0.7777777777777778, \"#fb9f3a\"], [0.8888888888888888, \"#fdca26\"], [1.0, \"#f0f921\"]], \"type\": \"heatmapgl\"}], \"histogram\": [{\"marker\": {\"colorbar\": {\"outlinewidth\": 0, \"ticks\": \"\"}}, \"type\": \"histogram\"}], \"histogram2d\": [{\"colorbar\": {\"outlinewidth\": 0, \"ticks\": \"\"}, \"colorscale\": [[0.0, \"#0d0887\"], [0.1111111111111111, \"#46039f\"], [0.2222222222222222, \"#7201a8\"], [0.3333333333333333, \"#9c179e\"], [0.4444444444444444, \"#bd3786\"], [0.5555555555555556, \"#d8576b\"], [0.6666666666666666, \"#ed7953\"], [0.7777777777777778, \"#fb9f3a\"], [0.8888888888888888, \"#fdca26\"], [1.0, \"#f0f921\"]], \"type\": \"histogram2d\"}], \"histogram2dcontour\": [{\"colorbar\": {\"outlinewidth\": 0, \"ticks\": \"\"}, \"colorscale\": [[0.0, \"#0d0887\"], [0.1111111111111111, \"#46039f\"], [0.2222222222222222, \"#7201a8\"], [0.3333333333333333, \"#9c179e\"], [0.4444444444444444, \"#bd3786\"], [0.5555555555555556, \"#d8576b\"], [0.6666666666666666, \"#ed7953\"], [0.7777777777777778, \"#fb9f3a\"], [0.8888888888888888, \"#fdca26\"], [1.0, \"#f0f921\"]], \"type\": \"histogram2dcontour\"}], \"mesh3d\": [{\"colorbar\": {\"outlinewidth\": 0, \"ticks\": \"\"}, \"type\": \"mesh3d\"}], \"parcoords\": [{\"line\": {\"colorbar\": {\"outlinewidth\": 0, \"ticks\": \"\"}}, \"type\": \"parcoords\"}], \"pie\": [{\"automargin\": true, \"type\": \"pie\"}], \"scatter\": [{\"marker\": {\"colorbar\": {\"outlinewidth\": 0, \"ticks\": \"\"}}, \"type\": \"scatter\"}], \"scatter3d\": [{\"line\": {\"colorbar\": {\"outlinewidth\": 0, \"ticks\": \"\"}}, \"marker\": {\"colorbar\": {\"outlinewidth\": 0, \"ticks\": \"\"}}, \"type\": \"scatter3d\"}], \"scattercarpet\": [{\"marker\": {\"colorbar\": {\"outlinewidth\": 0, \"ticks\": \"\"}}, \"type\": \"scattercarpet\"}], \"scattergeo\": [{\"marker\": {\"colorbar\": {\"outlinewidth\": 0, \"ticks\": \"\"}}, \"type\": \"scattergeo\"}], \"scattergl\": [{\"marker\": {\"colorbar\": {\"outlinewidth\": 0, \"ticks\": \"\"}}, \"type\": \"scattergl\"}], \"scattermapbox\": [{\"marker\": {\"colorbar\": {\"outlinewidth\": 0, \"ticks\": \"\"}}, \"type\": \"scattermapbox\"}], \"scatterpolar\": [{\"marker\": {\"colorbar\": {\"outlinewidth\": 0, \"ticks\": \"\"}}, \"type\": \"scatterpolar\"}], \"scatterpolargl\": [{\"marker\": {\"colorbar\": {\"outlinewidth\": 0, \"ticks\": \"\"}}, \"type\": \"scatterpolargl\"}], \"scatterternary\": [{\"marker\": {\"colorbar\": {\"outlinewidth\": 0, \"ticks\": \"\"}}, \"type\": \"scatterternary\"}], \"surface\": [{\"colorbar\": {\"outlinewidth\": 0, \"ticks\": \"\"}, \"colorscale\": [[0.0, \"#0d0887\"], [0.1111111111111111, \"#46039f\"], [0.2222222222222222, \"#7201a8\"], [0.3333333333333333, \"#9c179e\"], [0.4444444444444444, \"#bd3786\"], [0.5555555555555556, \"#d8576b\"], [0.6666666666666666, \"#ed7953\"], [0.7777777777777778, \"#fb9f3a\"], [0.8888888888888888, \"#fdca26\"], [1.0, \"#f0f921\"]], \"type\": \"surface\"}], \"table\": [{\"cells\": {\"fill\": {\"color\": \"#EBF0F8\"}, \"line\": {\"color\": \"white\"}}, \"header\": {\"fill\": {\"color\": \"#C8D4E3\"}, \"line\": {\"color\": \"white\"}}, \"type\": \"table\"}]}, \"layout\": {\"annotationdefaults\": {\"arrowcolor\": \"#2a3f5f\", \"arrowhead\": 0, \"arrowwidth\": 1}, \"autotypenumbers\": \"strict\", \"coloraxis\": {\"colorbar\": {\"outlinewidth\": 0, \"ticks\": \"\"}}, \"colorscale\": {\"diverging\": [[0, \"#8e0152\"], [0.1, \"#c51b7d\"], [0.2, \"#de77ae\"], [0.3, \"#f1b6da\"], [0.4, \"#fde0ef\"], [0.5, \"#f7f7f7\"], [0.6, \"#e6f5d0\"], [0.7, \"#b8e186\"], [0.8, \"#7fbc41\"], [0.9, \"#4d9221\"], [1, \"#276419\"]], \"sequential\": [[0.0, \"#0d0887\"], [0.1111111111111111, \"#46039f\"], [0.2222222222222222, \"#7201a8\"], [0.3333333333333333, \"#9c179e\"], [0.4444444444444444, \"#bd3786\"], [0.5555555555555556, \"#d8576b\"], [0.6666666666666666, \"#ed7953\"], [0.7777777777777778, \"#fb9f3a\"], [0.8888888888888888, \"#fdca26\"], [1.0, \"#f0f921\"]], \"sequentialminus\": [[0.0, \"#0d0887\"], [0.1111111111111111, \"#46039f\"], [0.2222222222222222, \"#7201a8\"], [0.3333333333333333, \"#9c179e\"], [0.4444444444444444, \"#bd3786\"], [0.5555555555555556, \"#d8576b\"], [0.6666666666666666, \"#ed7953\"], [0.7777777777777778, \"#fb9f3a\"], [0.8888888888888888, \"#fdca26\"], [1.0, \"#f0f921\"]]}, \"colorway\": [\"#636efa\", \"#EF553B\", \"#00cc96\", \"#ab63fa\", \"#FFA15A\", \"#19d3f3\", \"#FF6692\", \"#B6E880\", \"#FF97FF\", \"#FECB52\"], \"font\": {\"color\": \"#2a3f5f\"}, \"geo\": {\"bgcolor\": \"white\", \"lakecolor\": \"white\", \"landcolor\": \"#E5ECF6\", \"showlakes\": true, \"showland\": true, \"subunitcolor\": \"white\"}, \"hoverlabel\": {\"align\": \"left\"}, \"hovermode\": \"closest\", \"mapbox\": {\"style\": \"light\"}, \"paper_bgcolor\": \"white\", \"plot_bgcolor\": \"#E5ECF6\", \"polar\": {\"angularaxis\": {\"gridcolor\": \"white\", \"linecolor\": \"white\", \"ticks\": \"\"}, \"bgcolor\": \"#E5ECF6\", \"radialaxis\": {\"gridcolor\": \"white\", \"linecolor\": \"white\", \"ticks\": \"\"}}, \"scene\": {\"xaxis\": {\"backgroundcolor\": \"#E5ECF6\", \"gridcolor\": \"white\", \"gridwidth\": 2, \"linecolor\": \"white\", \"showbackground\": true, \"ticks\": \"\", \"zerolinecolor\": \"white\"}, \"yaxis\": {\"backgroundcolor\": \"#E5ECF6\", \"gridcolor\": \"white\", \"gridwidth\": 2, \"linecolor\": \"white\", \"showbackground\": true, \"ticks\": \"\", \"zerolinecolor\": \"white\"}, \"zaxis\": {\"backgroundcolor\": \"#E5ECF6\", \"gridcolor\": \"white\", \"gridwidth\": 2, \"linecolor\": \"white\", \"showbackground\": true, \"ticks\": \"\", \"zerolinecolor\": \"white\"}}, \"shapedefaults\": {\"line\": {\"color\": \"#2a3f5f\"}}, \"ternary\": {\"aaxis\": {\"gridcolor\": \"white\", \"linecolor\": \"white\", \"ticks\": \"\"}, \"baxis\": {\"gridcolor\": \"white\", \"linecolor\": \"white\", \"ticks\": \"\"}, \"bgcolor\": \"#E5ECF6\", \"caxis\": {\"gridcolor\": \"white\", \"linecolor\": \"white\", \"ticks\": \"\"}}, \"title\": {\"x\": 0.05}, \"xaxis\": {\"automargin\": true, \"gridcolor\": \"white\", \"linecolor\": \"white\", \"ticks\": \"\", \"title\": {\"standoff\": 15}, \"zerolinecolor\": \"white\", \"zerolinewidth\": 2}, \"yaxis\": {\"automargin\": true, \"gridcolor\": \"white\", \"linecolor\": \"white\", \"ticks\": \"\", \"title\": {\"standoff\": 15}, \"zerolinecolor\": \"white\", \"zerolinewidth\": 2}}}, \"xaxis\": {\"tickfont\": {\"size\": 32}}, \"yaxis\": {\"tickfont\": {\"size\": 26}, \"title\": {\"font\": {\"size\": 32}, \"text\": \"Accuracy\"}}},                        {\"responsive\": true}                    ).then(function(){\n",
       "                            \n",
       "var gd = document.getElementById('5d106a41-3019-47d7-b6da-7b48afa1a00b');\n",
       "var x = new MutationObserver(function (mutations, observer) {{\n",
       "        var display = window.getComputedStyle(gd).display;\n",
       "        if (!display || display === 'none') {{\n",
       "            console.log([gd, 'removed!']);\n",
       "            Plotly.purge(gd);\n",
       "            observer.disconnect();\n",
       "        }}\n",
       "}});\n",
       "\n",
       "// Listen for the removal of the full notebook cells\n",
       "var notebookContainer = gd.closest('#notebook-container');\n",
       "if (notebookContainer) {{\n",
       "    x.observe(notebookContainer, {childList: true});\n",
       "}}\n",
       "\n",
       "// Listen for the clearing of the current output cell\n",
       "var outputEl = gd.closest('.output');\n",
       "if (outputEl) {{\n",
       "    x.observe(outputEl, {childList: true});\n",
       "}}\n",
       "\n",
       "                        })                };                });            </script>        </div>"
      ]
     },
     "metadata": {},
     "output_type": "display_data"
    }
   ],
   "source": [
    "import plotly.graph_objects as go\n",
    "\n",
    "metrics=['Top-1', 'Top-5', 'Top-10']\n",
    "\n",
    "fig = go.Figure(data=[\n",
    "    go.Bar(name='Triplet Custom', x=metrics, y=[0.38, 0.52, 0.58], width=[0.22, 0.22, 0.22]),\n",
    "    go.Bar(name='Triplet MobileNet', x=metrics, y=[0.24, 0.40, 0.48], width=[0.22, 0.22, 0.22]),\n",
    "    go.Bar(name='VAE Custom', x=metrics, y=[0.30, 0.37, 0.40], width=[0.22, 0.22, 0.22]),\n",
    "])\n",
    "fig.update_layout(\n",
    "    #title='Top-k accuracies',\n",
    "    xaxis_tickfont_size=32,\n",
    "    yaxis=dict(\n",
    "        title='Accuracy',\n",
    "        titlefont_size=32,\n",
    "        tickfont_size=26,\n",
    "    ),\n",
    "   legend=dict(\n",
    "        x=0.72,\n",
    "        y=1.5,\n",
    "        bgcolor='rgba(255, 255, 255, 0)',\n",
    "        bordercolor='rgba(255, 255, 255, 0)',\n",
    "        title_font_family=\"Times New Roman\",\n",
    "        font=dict(\n",
    "            family=\"Arialbold\",\n",
    "            size=24,\n",
    "#            color=\"black\"\n",
    "       ),\n",
    "    ),\n",
    ")\n",
    "# Change the bar mode\n",
    "#fig.update_layout(barmode='group')\n",
    "fig.show()"
   ]
  },
  {
   "cell_type": "code",
   "execution_count": 13,
   "metadata": {},
   "outputs": [],
   "source": [
    "fig.write_html(\"models_comparison_top-k_metrics_brand-new.html\")"
   ]
  }
 ],
 "metadata": {
  "kernelspec": {
   "display_name": "Python 3",
   "language": "python",
   "name": "python3"
  },
  "language_info": {
   "codemirror_mode": {
    "name": "ipython",
    "version": 3
   },
   "file_extension": ".py",
   "mimetype": "text/x-python",
   "name": "python",
   "nbconvert_exporter": "python",
   "pygments_lexer": "ipython3",
   "version": "3.8.5"
  }
 },
 "nbformat": 4,
 "nbformat_minor": 4
}
