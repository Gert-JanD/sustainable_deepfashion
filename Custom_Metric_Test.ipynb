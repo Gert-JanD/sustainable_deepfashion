{
 "cells": [
  {
   "cell_type": "code",
   "execution_count": 1,
   "id": "ruled-budget",
   "metadata": {},
   "outputs": [],
   "source": [
    "import numpy as np"
   ]
  },
  {
   "cell_type": "markdown",
   "id": "rental-clearing",
   "metadata": {},
   "source": [
    "Define the end goal, that we want to achive in tensorflow:"
   ]
  },
  {
   "cell_type": "code",
   "execution_count": 2,
   "id": "aggressive-retrieval",
   "metadata": {},
   "outputs": [
    {
     "name": "stdout",
     "output_type": "stream",
     "text": [
      "(4, 128) (4, 1)\n"
     ]
    }
   ],
   "source": [
    "np_pred = np.random.randn(4, 128)\n",
    "np_true = np.array([[1],[1],[2],[3]])\n",
    "print(np_pred.shape, np_true.shape)"
   ]
  },
  {
   "cell_type": "markdown",
   "id": "printable-better",
   "metadata": {},
   "source": [
    "The goal is to comute the L2 distance between all permutations of the embeddings (rows of np_pred):"
   ]
  },
  {
   "cell_type": "code",
   "execution_count": 8,
   "id": "pregnant-sunrise",
   "metadata": {},
   "outputs": [
    {
     "name": "stdout",
     "output_type": "stream",
     "text": [
      "Pos: 15.990136309634597\n",
      "Neg: 16.223927757331612\n",
      "Neg: 17.18952572066305\n",
      "Neg: 15.66830997268424\n",
      "Neg: 17.43500824522327\n",
      "Neg: 14.929311302239624\n",
      "15.990136309634597 16.28921659962836\n"
     ]
    }
   ],
   "source": [
    "dist_pos = []\n",
    "dist_neg = []\n",
    "for i in range(np_pred.shape[0]-1):\n",
    "    for j in range(i+1, np_pred.shape[0]):\n",
    "        if np_true[i] == np_true[j]:\n",
    "            dist_pos.append( np.linalg.norm(np_pred[i]-np_pred[j]) )\n",
    "            print(f\"Pos: {np.linalg.norm(np_pred[i]-np_pred[j])}\")\n",
    "        else:\n",
    "            dist_neg.append( np.linalg.norm(np_pred[i]-np_pred[j]) )\n",
    "            print(f\"Neg: {np.linalg.norm(np_pred[i]-np_pred[j])}\")\n",
    "\n",
    "print(np.mean(dist_pos), np.mean(dist_neg))"
   ]
  },
  {
   "cell_type": "markdown",
   "id": "cooked-project",
   "metadata": {},
   "source": [
    "Now lets go for a tensorflow implementation which will require posing this computation into a tensor opperation:"
   ]
  },
  {
   "cell_type": "code",
   "execution_count": 10,
   "id": "aware-marsh",
   "metadata": {},
   "outputs": [],
   "source": [
    "import tensorflow as tf"
   ]
  },
  {
   "cell_type": "code",
   "execution_count": 12,
   "id": "increased-hurricane",
   "metadata": {},
   "outputs": [
    {
     "name": "stdout",
     "output_type": "stream",
     "text": [
      "(4, 128) (4, 1)\n"
     ]
    }
   ],
   "source": [
    "tf_pred = tf.constant(np_pred)\n",
    "tf_true = tf.constant(np_true)\n",
    "print(tf_pred.shape, tf_true.shape)"
   ]
  },
  {
   "cell_type": "code",
   "execution_count": 14,
   "id": "electrical-armstrong",
   "metadata": {},
   "outputs": [
    {
     "data": {
      "text/plain": [
       "TensorShape([4, 4, 128])"
      ]
     },
     "execution_count": 14,
     "metadata": {},
     "output_type": "execute_result"
    }
   ],
   "source": [
    "tmp = tf.broadcast_to(tf_pred, (tf_pred.shape[0], tf_pred.shape[0], tf_pred.shape[1]))\n",
    "tmp.shape"
   ]
  },
  {
   "cell_type": "code",
   "execution_count": 16,
   "id": "little-participation",
   "metadata": {},
   "outputs": [
    {
     "data": {
      "text/plain": [
       "TensorShape([4, 4, 128])"
      ]
     },
     "execution_count": 16,
     "metadata": {},
     "output_type": "execute_result"
    }
   ],
   "source": [
    "difference_tensor = tmp - tf.transpose( tmp, [1,0,2] )\n",
    "difference_tensor.shape"
   ]
  },
  {
   "cell_type": "code",
   "execution_count": 36,
   "id": "freelance-combat",
   "metadata": {},
   "outputs": [],
   "source": [
    "pred_norm = tf.norm(difference_tensor, axis=2)"
   ]
  },
  {
   "cell_type": "markdown",
   "id": "banned-smell",
   "metadata": {},
   "source": [
    "Nice! Now we need to get our maps for positive and negative examples:"
   ]
  },
  {
   "cell_type": "code",
   "execution_count": 57,
   "id": "running-thing",
   "metadata": {},
   "outputs": [],
   "source": [
    "tmp_true = tf.broadcast_to(tf_true, (tf_true.shape[0], tf_true.shape[0]))\n",
    "true_diff =tf.cast( tmp_true == tf.transpose(tmp_true, [1,0]), tf.float64)\n",
    "neg_diff = tf.cast( tmp_true != tf.transpose(tmp_true, [1,0]), tf.float64)"
   ]
  },
  {
   "cell_type": "code",
   "execution_count": 56,
   "id": "outside-occupation",
   "metadata": {},
   "outputs": [
    {
     "data": {
      "text/plain": [
       "<tf.Tensor: shape=(), dtype=float64, numpy=15.990136309634597>"
      ]
     },
     "execution_count": 56,
     "metadata": {},
     "output_type": "execute_result"
    }
   ],
   "source": [
    "sum_pos = tf.reduce_sum(tf.math.multiply(true_diff, pred_norm))\n",
    "count_pos = tf.reduce_sum(true_diff) - true_diff.shape[0] #Substract the counts from the diagonal\n",
    "sum_pos/count_pos"
   ]
  },
  {
   "cell_type": "code",
   "execution_count": 59,
   "id": "executive-nepal",
   "metadata": {},
   "outputs": [
    {
     "data": {
      "text/plain": [
       "<tf.Tensor: shape=(), dtype=float64, numpy=16.28921659962836>"
      ]
     },
     "execution_count": 59,
     "metadata": {},
     "output_type": "execute_result"
    }
   ],
   "source": [
    "sum_neg = tf.reduce_sum(tf.math.multiply(neg_diff, pred_norm))\n",
    "count_neg = tf.reduce_sum(neg_diff)\n",
    "sum_neg/count_neg"
   ]
  },
  {
   "cell_type": "markdown",
   "id": "false-consultancy",
   "metadata": {},
   "source": [
    "Nice ... slightly complicated, but thats tensorflow..."
   ]
  },
  {
   "cell_type": "code",
   "execution_count": null,
   "id": "fleet-regression",
   "metadata": {},
   "outputs": [],
   "source": []
  }
 ],
 "metadata": {
  "kernelspec": {
   "display_name": "one_shot_image",
   "language": "python",
   "name": "one_shot_image"
  },
  "language_info": {
   "codemirror_mode": {
    "name": "ipython",
    "version": 3
   },
   "file_extension": ".py",
   "mimetype": "text/x-python",
   "name": "python",
   "nbconvert_exporter": "python",
   "pygments_lexer": "ipython3",
   "version": "3.8.5"
  }
 },
 "nbformat": 4,
 "nbformat_minor": 5
}
