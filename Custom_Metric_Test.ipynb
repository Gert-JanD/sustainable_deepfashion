{
 "cells": [
  {
   "cell_type": "code",
   "execution_count": 1,
   "id": "ruled-budget",
   "metadata": {},
   "outputs": [],
   "source": [
    "import numpy as np"
   ]
  },
  {
   "cell_type": "markdown",
   "id": "rental-clearing",
   "metadata": {},
   "source": [
    "Define the end goal, that we want to achive in tensorflow:"
   ]
  },
  {
   "cell_type": "code",
   "execution_count": 2,
   "id": "aggressive-retrieval",
   "metadata": {},
   "outputs": [
    {
     "name": "stdout",
     "output_type": "stream",
     "text": [
      "(4, 128) (4, 1)\n"
     ]
    }
   ],
   "source": [
    "np_pred = np.random.randn(4, 128)\n",
    "np_true = np.array([[1],[1],[2],[3]])\n",
    "print(np_pred.shape, np_true.shape)"
   ]
  },
  {
   "cell_type": "markdown",
   "id": "printable-better",
   "metadata": {},
   "source": [
    "The goal is to comute the L2 distance between all permutations of the embeddings (rows of np_pred):"
   ]
  },
  {
   "cell_type": "code",
   "execution_count": 3,
   "id": "pregnant-sunrise",
   "metadata": {},
   "outputs": [
    {
     "name": "stdout",
     "output_type": "stream",
     "text": [
      "Pos: 17.225099945474028\n",
      "Neg: 18.015576579456305\n",
      "Neg: 15.475763090014768\n",
      "Neg: 17.257324233392087\n",
      "Neg: 14.489370891432992\n",
      "Neg: 15.764187603936438\n",
      "17.225099945474028 16.200444479646517\n"
     ]
    }
   ],
   "source": [
    "dist_pos = []\n",
    "dist_neg = []\n",
    "for i in range(np_pred.shape[0]-1):\n",
    "    for j in range(i+1, np_pred.shape[0]):\n",
    "        if np_true[i] == np_true[j]:\n",
    "            dist_pos.append( np.linalg.norm(np_pred[i]-np_pred[j]) )\n",
    "            print(f\"Pos: {np.linalg.norm(np_pred[i]-np_pred[j])}\")\n",
    "        else:\n",
    "            dist_neg.append( np.linalg.norm(np_pred[i]-np_pred[j]) )\n",
    "            print(f\"Neg: {np.linalg.norm(np_pred[i]-np_pred[j])}\")\n",
    "\n",
    "print(np.mean(dist_pos), np.mean(dist_neg))"
   ]
  },
  {
   "cell_type": "markdown",
   "id": "cooked-project",
   "metadata": {},
   "source": [
    "Now lets go for a tensorflow implementation which will require posing this computation into a tensor opperation:"
   ]
  },
  {
   "cell_type": "code",
   "execution_count": 4,
   "id": "aware-marsh",
   "metadata": {},
   "outputs": [],
   "source": [
    "import tensorflow as tf"
   ]
  },
  {
   "cell_type": "code",
   "execution_count": 5,
   "id": "increased-hurricane",
   "metadata": {},
   "outputs": [
    {
     "name": "stdout",
     "output_type": "stream",
     "text": [
      "(4, 128) (4, 1)\n"
     ]
    }
   ],
   "source": [
    "tf_pred = tf.constant(np_pred)\n",
    "tf_true = tf.constant(np_true)\n",
    "print(tf_pred.shape, tf_true.shape)"
   ]
  },
  {
   "cell_type": "code",
   "execution_count": 6,
   "id": "electrical-armstrong",
   "metadata": {},
   "outputs": [
    {
     "data": {
      "text/plain": [
       "TensorShape([4, 4, 128])"
      ]
     },
     "execution_count": 6,
     "metadata": {},
     "output_type": "execute_result"
    }
   ],
   "source": [
    "tmp = tf.broadcast_to(tf_pred, (tf_pred.shape[0], tf_pred.shape[0], tf_pred.shape[1]))\n",
    "tmp.shape"
   ]
  },
  {
   "cell_type": "code",
   "execution_count": 7,
   "id": "little-participation",
   "metadata": {},
   "outputs": [
    {
     "data": {
      "text/plain": [
       "TensorShape([4, 4, 128])"
      ]
     },
     "execution_count": 7,
     "metadata": {},
     "output_type": "execute_result"
    }
   ],
   "source": [
    "difference_tensor = tmp - tf.transpose( tmp, [1,0,2] )\n",
    "difference_tensor.shape"
   ]
  },
  {
   "cell_type": "code",
   "execution_count": 8,
   "id": "freelance-combat",
   "metadata": {},
   "outputs": [],
   "source": [
    "pred_norm = tf.norm(difference_tensor, axis=2)"
   ]
  },
  {
   "cell_type": "markdown",
   "id": "banned-smell",
   "metadata": {},
   "source": [
    "Nice! Now we need to get our maps for positive and negative examples:"
   ]
  },
  {
   "cell_type": "code",
   "execution_count": 76,
   "id": "running-thing",
   "metadata": {},
   "outputs": [],
   "source": [
    "tmp_true = tf.broadcast_to(tf_true, (tf_true.shape[0], tf_true.shape[0]))\n",
    "\n",
    "true_diff =tf.cast( tmp_true == tf.transpose(tmp_true, [1,0]), tf.float64)\n",
    "#Remove the diagonal entries:\n",
    "true_diff = tf.linalg.set_diag(true_diff, tf.cast(tf.broadcast_to([0], [true_diff.shape[0]]), tf.double) )\n",
    "true_diff = tf.linalg.band_part(true_diff, 0, -1) #Remove the symmetric part below the diagonal\n",
    "\n",
    "#Do the same for the negative examples:\n",
    "neg_diff = tf.cast( tmp_true != tf.transpose(tmp_true, [1,0]), tf.float64)\n",
    "neg_diff = tf.linalg.band_part(neg_diff, 0, -1)"
   ]
  },
  {
   "cell_type": "code",
   "execution_count": 77,
   "id": "equivalent-rally",
   "metadata": {},
   "outputs": [
    {
     "data": {
      "text/plain": [
       "(<tf.Tensor: shape=(1,), dtype=float64, numpy=array([17.22509995])>,\n",
       " <tf.Tensor: shape=(5,), dtype=float64, numpy=array([18.01557658, 15.47576309, 17.25732423, 14.48937089, 15.7641876 ])>)"
      ]
     },
     "execution_count": 77,
     "metadata": {},
     "output_type": "execute_result"
    }
   ],
   "source": [
    "pos_distance = tf.boolean_mask(pred_norm, tf.cast(true_diff, tf.bool))\n",
    "neg_distance = tf.boolean_mask(pred_norm, tf.cast(neg_diff, tf.bool))\n",
    "pos_distance, neg_distance"
   ]
  },
  {
   "cell_type": "code",
   "execution_count": 78,
   "id": "fifteen-jenny",
   "metadata": {},
   "outputs": [
    {
     "data": {
      "text/plain": [
       "(<tf.Tensor: shape=(), dtype=float64, numpy=17.225099945474028>,\n",
       " <tf.Tensor: shape=(), dtype=float64, numpy=16.200444479646514>)"
      ]
     },
     "execution_count": 78,
     "metadata": {},
     "output_type": "execute_result"
    }
   ],
   "source": [
    "tf.reduce_sum(pos_distance)/pos_distance.shape[0], tf.reduce_sum(neg_distance)/neg_distance.shape[0]"
   ]
  },
  {
   "cell_type": "markdown",
   "id": "false-consultancy",
   "metadata": {},
   "source": [
    "Nice ... slightly complicated, but thats tensorflow..."
   ]
  },
  {
   "cell_type": "markdown",
   "id": "white-synthetic",
   "metadata": {},
   "source": [
    "# Pessimistic Metric"
   ]
  },
  {
   "cell_type": "markdown",
   "id": "exclusive-phase",
   "metadata": {},
   "source": [
    "Averageing the distance of positive and negative examples seems to be wway too optimistic. In fact, the loss function does try to find the hardest negative examples (short distance) and the worst positive example (largest distance). Lets try to find them with tensorflow:"
   ]
  },
  {
   "cell_type": "code",
   "execution_count": 79,
   "id": "juvenile-aviation",
   "metadata": {},
   "outputs": [
    {
     "data": {
      "text/plain": [
       "<tf.Tensor: shape=(), dtype=float64, numpy=17.225099945474028>"
      ]
     },
     "execution_count": 79,
     "metadata": {},
     "output_type": "execute_result"
    }
   ],
   "source": [
    "max_pos_dist = tf.reduce_max(pos_distance)\n",
    "max_pos_dist"
   ]
  },
  {
   "cell_type": "code",
   "execution_count": 80,
   "id": "social-military",
   "metadata": {},
   "outputs": [
    {
     "data": {
      "text/plain": [
       "<tf.Tensor: shape=(), dtype=float64, numpy=14.489370891432992>"
      ]
     },
     "execution_count": 80,
     "metadata": {},
     "output_type": "execute_result"
    }
   ],
   "source": [
    "min_neg_dist = tf.reduce_min( neg_distance )\n",
    "min_neg_dist"
   ]
  },
  {
   "cell_type": "markdown",
   "id": "alike-final",
   "metadata": {},
   "source": [
    "# All to All - Metric"
   ]
  },
  {
   "cell_type": "markdown",
   "id": "distant-export",
   "metadata": {},
   "source": [
    "One other metric might be to compare the distances of all positive and all negative examples (pairs) and return the mean of the combined scores (each being 1 if the positive distance was smaller then the negative distance for each example):"
   ]
  },
  {
   "cell_type": "code",
   "execution_count": 82,
   "id": "grave-liverpool",
   "metadata": {},
   "outputs": [
    {
     "data": {
      "text/plain": [
       "<tf.Tensor: shape=(5, 1), dtype=float64, numpy=\n",
       "array([[17.22509995],\n",
       "       [17.22509995],\n",
       "       [17.22509995],\n",
       "       [17.22509995],\n",
       "       [17.22509995]])>"
      ]
     },
     "execution_count": 82,
     "metadata": {},
     "output_type": "execute_result"
    }
   ],
   "source": [
    "tf.broadcast_to(pos_distance, (neg_distance.shape[0], pos_distance.shape[0] ))"
   ]
  },
  {
   "cell_type": "code",
   "execution_count": 85,
   "id": "turned-editor",
   "metadata": {},
   "outputs": [
    {
     "data": {
      "text/plain": [
       "<tf.Tensor: shape=(1, 5), dtype=float64, numpy=array([[18.01557658, 15.47576309, 17.25732423, 14.48937089, 15.7641876 ]])>"
      ]
     },
     "execution_count": 85,
     "metadata": {},
     "output_type": "execute_result"
    }
   ],
   "source": [
    "tf.broadcast_to( neg_distance, (pos_distance.shape[0], neg_distance.shape[0]) )"
   ]
  },
  {
   "cell_type": "markdown",
   "id": "settled-courtesy",
   "metadata": {},
   "source": [
    "Unfortunately we have only one positive example. So lets make up a second one, to check if it works correctely:"
   ]
  },
  {
   "cell_type": "code",
   "execution_count": 93,
   "id": "restricted-shadow",
   "metadata": {},
   "outputs": [],
   "source": [
    "pos = tf.constant([17.22, 15.24], dtype=tf.float64)\n",
    "neg = neg_distance"
   ]
  },
  {
   "cell_type": "code",
   "execution_count": 98,
   "id": "approved-institution",
   "metadata": {},
   "outputs": [],
   "source": [
    "t_pos = tf.broadcast_to(pos, (neg_distance.shape[0], pos.shape[0]))"
   ]
  },
  {
   "cell_type": "code",
   "execution_count": 99,
   "id": "earned-sender",
   "metadata": {},
   "outputs": [],
   "source": [
    "t_neg = tf.transpose(tf.broadcast_to( neg_distance, (pos.shape[0], neg_distance.shape[0]) ))"
   ]
  },
  {
   "cell_type": "code",
   "execution_count": 100,
   "id": "french-divide",
   "metadata": {},
   "outputs": [
    {
     "data": {
      "text/plain": [
       "<tf.Tensor: shape=(5, 2), dtype=bool, numpy=\n",
       "array([[ True,  True],\n",
       "       [False,  True],\n",
       "       [ True,  True],\n",
       "       [False, False],\n",
       "       [False,  True]])>"
      ]
     },
     "execution_count": 100,
     "metadata": {},
     "output_type": "execute_result"
    }
   ],
   "source": [
    "t_pos < t_neg"
   ]
  },
  {
   "cell_type": "code",
   "execution_count": 101,
   "id": "aggregate-attempt",
   "metadata": {},
   "outputs": [
    {
     "data": {
      "text/plain": [
       "(<tf.Tensor: shape=(5, 2), dtype=float64, numpy=\n",
       " array([[17.22, 15.24],\n",
       "        [17.22, 15.24],\n",
       "        [17.22, 15.24],\n",
       "        [17.22, 15.24],\n",
       "        [17.22, 15.24]])>,\n",
       " <tf.Tensor: shape=(5, 2), dtype=float64, numpy=\n",
       " array([[18.01557658, 18.01557658],\n",
       "        [15.47576309, 15.47576309],\n",
       "        [17.25732423, 17.25732423],\n",
       "        [14.48937089, 14.48937089],\n",
       "        [15.7641876 , 15.7641876 ]])>)"
      ]
     },
     "execution_count": 101,
     "metadata": {},
     "output_type": "execute_result"
    }
   ],
   "source": [
    "t_pos, t_neg"
   ]
  },
  {
   "cell_type": "code",
   "execution_count": 103,
   "id": "limited-spain",
   "metadata": {},
   "outputs": [],
   "source": [
    "t_comp = t_pos < t_neg"
   ]
  },
  {
   "cell_type": "code",
   "execution_count": 109,
   "id": "strange-business",
   "metadata": {},
   "outputs": [
    {
     "data": {
      "text/plain": [
       "<tf.Tensor: shape=(), dtype=float64, numpy=0.6>"
      ]
     },
     "execution_count": 109,
     "metadata": {},
     "output_type": "execute_result"
    }
   ],
   "source": [
    "tf.reduce_sum(tf.cast(t_comp, tf.int64))/(t_comp.shape[0]*t_comp.shape[1])"
   ]
  },
  {
   "cell_type": "code",
   "execution_count": null,
   "id": "piano-label",
   "metadata": {},
   "outputs": [],
   "source": []
  }
 ],
 "metadata": {
  "kernelspec": {
   "display_name": "fashion",
   "language": "python",
   "name": "fashion"
  },
  "language_info": {
   "codemirror_mode": {
    "name": "ipython",
    "version": 3
   },
   "file_extension": ".py",
   "mimetype": "text/x-python",
   "name": "python",
   "nbconvert_exporter": "python",
   "pygments_lexer": "ipython3",
   "version": "3.8.5"
  }
 },
 "nbformat": 4,
 "nbformat_minor": 5
}
